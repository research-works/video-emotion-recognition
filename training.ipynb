{
  "nbformat": 4,
  "nbformat_minor": 0,
  "metadata": {
    "language_info": {
      "codemirror_mode": {
        "name": "ipython",
        "version": 3
      },
      "file_extension": ".py",
      "mimetype": "text/x-python",
      "name": "python",
      "nbconvert_exporter": "python",
      "pygments_lexer": "ipython3",
      "version": "3.8.2-final"
    },
    "orig_nbformat": 2,
    "kernelspec": {
      "name": "python37564bit6c0c4de1db534a08968024907c735ed7",
      "display_name": "Python 3.7.5 64-bit"
    },
    "colab": {
      "name": "training.ipynb",
      "provenance": [],
      "collapsed_sections": [],
      "toc_visible": true
    },
    "accelerator": "GPU"
  },
  "cells": [
    {
      "cell_type": "code",
      "metadata": {
        "id": "XFecgftX_oUh",
        "colab_type": "code",
        "colab": {}
      },
      "source": [
        "import os\n",
        "hostname = os.popen(\"hostname\").read().split(\"\\n\")[0]\n",
        "if(hostname != \"reckoner1429-Predator-PH315-52\"):\n",
        "    from google.colab import drive\n",
        "    from google.colab import drive\n",
        "    drive.mount('/content/gdrive')\n",
        "\n",
        "    ! chmod 755 \"/content/gdrive/My Drive/MINOR2/collab-init.sh\"\n",
        "    ! \"/content/gdrive/My Drive/MINOR2/collab-init.sh\"\n",
        "    %cd \"/content/gdrive/My Drive/github/video-emotion-recognition\""
      ],
      "execution_count": null,
      "outputs": []
    },
    {
      "cell_type": "code",
      "metadata": {
        "id": "7w02JP9lRWhc",
        "colab_type": "code",
        "tags": [],
        "colab": {}
      },
      "source": [
        "import librosa\n",
        "import librosa.display\n",
        "import numpy as np\n",
        "import utils.data_util as data_util\n",
        "import matplotlib.pyplot as plt\n",
        "from tensorflow.keras.applications import Xception, VGG16, ResNet50, ResNet101, ResNet152, ResNet50V2, ResNet101V2, ResNet152V2, InceptionV3, InceptionResNetV2, MobileNet, MobileNetV2\n",
        "from tensorflow.keras.layers import Dense, Flatten, Concatenate\n",
        "from tensorflow.keras import Model\n",
        "from sklearn.model_selection import train_test_split\n",
        "import tensorflow as tf\n",
        "from tensorflow.keras.models import load_model\n",
        "import tensorflow.keras as keras\n",
        "import time\n",
        "import utils.local_config as local_config\n",
        "from utils.hyparam_config import HyperparamConfig3 as HyParamCfg"
      ],
      "execution_count": 4,
      "outputs": []
    },
    {
      "cell_type": "code",
      "metadata": {
        "id": "lFEPG4AK-Fjt",
        "colab_type": "code",
        "tags": [],
        "colab": {}
      },
      "source": [
        "gpus = tf.config.experimental.list_physical_devices('GPU')\n",
        "if gpus:\n",
        "  try:\n",
        "    # Currently, memory growth needs to be the same across GPUs\n",
        "    for gpu in gpus:\n",
        "        print(gpu)\n",
        "        tf.config.experimental.set_memory_growth(gpu, True)\n",
        "    logical_gpus = tf.config.experimental.list_logical_devices('GPU')\n",
        "    print(len(gpus), \"Physical GPUs,\", len(logical_gpus), \"Logical GPUs\")\n",
        "  except RuntimeError as e:\n",
        "    # Memory growth must be set before GPUs have been initialized\n",
        "    print(e)"
      ],
      "execution_count": null,
      "outputs": []
    },
    {
      "cell_type": "markdown",
      "metadata": {
        "id": "oa66Rqg9-Fj9",
        "colab_type": "text"
      },
      "source": [
        "# Load Data"
      ]
    },
    {
      "cell_type": "markdown",
      "metadata": {
        "id": "IYd_O-SW-Fj_",
        "colab_type": "text"
      },
      "source": [
        "## Load file names"
      ]
    },
    {
      "cell_type": "code",
      "metadata": {
        "id": "PajvFqrk-FkA",
        "colab_type": "code",
        "tags": [],
        "colab": {}
      },
      "source": [
        "X_orig_audio, Y_orig_audio = data_util.load_audio_filenames()\n",
        "X_orig_face, Y_orig_face = data_util.load_facial_filenames()\n",
        "\n",
        "print(X_orig_audio.shape)\n",
        "print(X_orig_face.shape)"
      ],
      "execution_count": null,
      "outputs": []
    },
    {
      "cell_type": "markdown",
      "metadata": {
        "id": "FMyp89A3-FkO",
        "colab_type": "text"
      },
      "source": [
        "## Split Data"
      ]
    },
    {
      "cell_type": "code",
      "metadata": {
        "id": "xcp_58Io-FkP",
        "colab_type": "code",
        "tags": [],
        "colab": {}
      },
      "source": [
        "# split data\n",
        "print(X_orig_face.shape)\n",
        "print(X_orig_audio.shape)\n",
        "\n",
        "SEED = 0\n",
        "#Sanity check of the loaded data\n",
        "for i in range(Y_orig_face.shape[0]):\n",
        "    for j in range(Y_orig_face.shape[1]):\n",
        "        if(not(Y_orig_face[i][j] == Y_orig_audio[i][j])):\n",
        "            print(\"invalid1\")\n",
        "            break\n",
        "\n",
        "# Split the data using train_test_split utility\n",
        "train_test_distribution = train_test_split(X_orig_face, Y_orig_face, X_orig_audio, Y_orig_audio,\n",
        "                                          test_size = 0.2, shuffle = True, random_state = SEED)\n",
        "X_train_face = train_test_distribution[0]\n",
        "X_test_face = train_test_distribution[1]\n",
        "Y_train_face = train_test_distribution[2]\n",
        "Y_test_face = train_test_distribution[3]\n",
        "\n",
        "X_train_audio = train_test_distribution[4]\n",
        "X_test_audio = train_test_distribution[5]\n",
        "Y_train_audio = train_test_distribution[6]\n",
        "Y_test_audio = train_test_distribution[7]\n",
        "\n",
        "#Sanity check after splitting\n",
        "for i in range(Y_test_face.shape[0]):\n",
        "    for j in range(Y_test_face.shape[1]):\n",
        "        if(not(Y_test_face[i][j] == Y_test_audio[i][j])):\n",
        "            print(\"invalid\")\n",
        "            break\n",
        "\n",
        "for i in range(Y_train_face.shape[0]):\n",
        "    for j in range(Y_train_face.shape[1]):\n",
        "        if(not(Y_train_face[i][j] == Y_train_audio[i][j])):\n",
        "            print(\"invalid\")\n",
        "            break\n",
        "\n",
        "#Y_train_face and Y_train_speech are equivalent\n",
        "# and Y_test_face and Y_test_speech are also equivalent\n",
        "Y_train = Y_train_face\n",
        "Y_test = Y_test_face\n",
        "print(X_train_face)\n",
        "print(X_train_audio)"
      ],
      "execution_count": null,
      "outputs": []
    },
    {
      "cell_type": "markdown",
      "metadata": {
        "id": "maxGAy-d-FkV",
        "colab_type": "text"
      },
      "source": [
        "## Define some parameters"
      ]
    },
    {
      "cell_type": "code",
      "metadata": {
        "id": "huP6RFSL-FkW",
        "colab_type": "code",
        "colab": {}
      },
      "source": [
        "INPUT_WIDTH = 224\n",
        "INPUT_HEIGHT = 224\n",
        "BATCH_SIZE = 8\n",
        "epochs = 200\n",
        "ITERATION = HyParamCfg['iteration']"
      ],
      "execution_count": null,
      "outputs": []
    },
    {
      "cell_type": "markdown",
      "metadata": {
        "id": "vX6crwPf-Fkc",
        "colab_type": "text"
      },
      "source": [
        "## Create the generators using filenames and labels"
      ]
    },
    {
      "cell_type": "code",
      "metadata": {
        "id": "p0qAlXHR-Fkd",
        "colab_type": "code",
        "colab": {}
      },
      "source": [
        "X_train_face_gen = data_util.FaceDataGenerator(X_train_face, Y_train_face, BATCH_SIZE, INPUT_WIDTH, INPUT_HEIGHT)\n",
        "X_val_face_gen = data_util.FaceDataGenerator(X_test_face, Y_test_face, BATCH_SIZE, INPUT_WIDTH, INPUT_HEIGHT)"
      ],
      "execution_count": null,
      "outputs": []
    },
    {
      "cell_type": "code",
      "metadata": {
        "id": "9dw7ga5t-Fkh",
        "colab_type": "code",
        "colab": {}
      },
      "source": [
        "X_train_audio_gen = data_util.AudioDataGenerator(X_train_audio, Y_train_audio, BATCH_SIZE, INPUT_WIDTH, INPUT_WIDTH)\n",
        "X_val_audio_gen = data_util.AudioDataGenerator(X_test_audio, Y_test_audio, BATCH_SIZE, INPUT_WIDTH, INPUT_HEIGHT)"
      ],
      "execution_count": null,
      "outputs": []
    },
    {
      "cell_type": "code",
      "metadata": {
        "id": "k8L20Q_G-Fkk",
        "colab_type": "code",
        "colab": {}
      },
      "source": [
        "X_train_gen = data_util.MultimodalDataGenerator(X_train_face, X_train_audio, Y_train_face, BATCH_SIZE, INPUT_WIDTH, INPUT_HEIGHT)\n",
        "X_val_gen = data_util.MultimodalDataGenerator(X_test_face, X_test_audio, Y_test_face, BATCH_SIZE, INPUT_WIDTH, INPUT_HEIGHT)"
      ],
      "execution_count": null,
      "outputs": []
    },
    {
      "cell_type": "markdown",
      "metadata": {
        "id": "Zl-QUgPl-Fkp",
        "colab_type": "text"
      },
      "source": [
        "# Define Functions for Training"
      ]
    },
    {
      "cell_type": "markdown",
      "metadata": {
        "id": "_yMlUk_F-Fkp",
        "colab_type": "text"
      },
      "source": [
        "## Define function to pretrain the model"
      ]
    },
    {
      "cell_type": "code",
      "metadata": {
        "tags": [],
        "id": "-immrnsk-Fkr",
        "colab_type": "code",
        "colab": {}
      },
      "source": [
        "def pretrain(model, train_data_gen, val_data_gen, epochs, network):\n",
        "    output_layer = Dense(8, activation = 'softmax')(model.layers[-2].output)\n",
        "    model = Model(model.input, output_layer, name = 'ftm-' + model.name + '-' + network + '-' + str(BATCH_SIZE))\n",
        "    model.compile(optimizer = HyParamCfg['optimizer'], loss = 'categorical_crossentropy', metrics = ['categorical_accuracy'])\n",
        "    \n",
        "    model_save_dir_path = local_config.BASE_DIR + '/' + 'temp/ftm-' + str(SEED)+ '/' + 'saved_models' \n",
        "    model_save_path = model_save_dir_path + '/' + model.name + '.h5'   \n",
        "\n",
        "    if(not os.path.exists(model_save_path)):\n",
        "        history = model.fit(train_data_gen, validation_data = val_data_gen, epochs = epochs, verbose = 2)\n",
        "\n",
        "        plt.plot(history.history['categorical_accuracy'])\n",
        "\n",
        "        if(not os.path.exists(model_save_dir_path)):\n",
        "            os.makedirs(model_save_dir_path)\n",
        "        model.save(model_save_path)\n",
        "\n",
        "        model_history_path = local_config.BASE_DIR + '/' + 'temp/ftm-' + str(SEED)+ '/' + 'history'\n",
        "        if(not os.path.exists(model_history_path)):\n",
        "            os.makedirs(model_history_path)\n",
        "        np.save(model_history_path + '/' + model.name + '-history.npy',history.history)\n",
        "    \n",
        "        model.evaluate(val_data_gen)"
      ],
      "execution_count": null,
      "outputs": []
    },
    {
      "cell_type": "markdown",
      "metadata": {
        "id": "3z_1Xt0w-Fku",
        "colab_type": "text"
      },
      "source": [
        "## Define the function for tranining fusion network"
      ]
    },
    {
      "cell_type": "code",
      "metadata": {
        "id": "psKqHB08-Fkv",
        "colab_type": "code",
        "colab": {}
      },
      "source": [
        "def train_fusion_network(ptrn_model_name, ptrn_face_batch_size, ptrn_audio_batch_size, X_train_gen, X_val_gen, epochs):\n",
        "    model_face = keras.models.load_model(os.path.join(local_config.BASE_DIR, 'temp/ftm-' + str(SEED), 'saved_models/ftm-' + ptrn_model_name + '-face-' + str(ptrn_face_batch_size) + '.h5'))\n",
        "    for layer in model_face.layers:\n",
        "        layer._name = layer.name + '-face'\n",
        "        layer.trainable = False\n",
        "        output_layer_face = (model_face.layers[-2].output)\n",
        "    \n",
        "    model_audio = keras.models.load_model(os.path.join(local_config.BASE_DIR, 'temp/ftm-' + str(SEED), 'saved_models/ftm-' + ptrn_model_name + '-audio-' + str(ptrn_face_batch_size) + '.h5'))\n",
        "    for layer in model_audio.layers:\n",
        "        layer._name = layer.name + '-audio'\n",
        "        layer.trainable = False\n",
        "    output_layer_audio = (model_audio.layers[-2].output)\n",
        "\n",
        "    # Construct the fusion network\n",
        "    layer = Concatenate()([output_layer_face, output_layer_audio])\n",
        "\n",
        "    layer = Dense(2048, activation=HyParamCfg['layer1_activation'], kernel_initializer = HyParamCfg['layer1_kernel_intializer'], kernel_regularizer = HyParamCfg['layer1_kernel_regularizer'], activity_regularizer = HyParamCfg['layer1_activity_regulazier'])(layer)\n",
        "\n",
        "    layer = HyParamCfg['layer1_dropout'](layer)\n",
        "\n",
        "    layer = Dense(8, activation = 'softmax')(layer)\n",
        "\n",
        "    model = Model([model_face.input, model_audio.input], layer, name = ptrn_model_name + '-' + str(ptrn_face_batch_size) + '-' + str(ptrn_audio_batch_size) + '-' + str(BATCH_SIZE) + '-' + str(ITERATION))\n",
        "\n",
        "    # Compile the fusion network model\n",
        "    model.compile(optimizer = HyParamCfg['optimizer'], loss = 'categorical_crossentropy', metrics = ['categorical_accuracy'])\n",
        "\n",
        "    history = model.fit(X_train_gen, validation_data = X_val_gen, epochs=epochs, verbose = 2)\n",
        "\n",
        "    model_save_dir_path = os.path.join(local_config.BASE_DIR, 'temp','iteration-' + str(ITERATION), 'saved_models')\n",
        "    if(not os.path.exists(model_save_dir_path)):\n",
        "        os.makedirs(model_save_dir_path)\n",
        "    model.save(os.path.join(model_save_dir_path, model.name + '.h5'))\n",
        "\n",
        "    model_history_path = os.path.join(local_config.BASE_DIR, 'temp', 'iteration-' + str(ITERATION), 'history')\n",
        "    if(not os.path.exists(model_history_path)):\n",
        "        os.makedirs(model_history_path)\n",
        "    np.save(os.path.join(model_history_path, model.name + '-history.npy'),history.history)\n",
        "\n",
        "    plt.plot(history.history['loss'])\n",
        "    plt.plot(history.history['categorical_accuracy'])\n",
        "\n",
        "    model.evaluate(X_val_gen)"
      ],
      "execution_count": null,
      "outputs": []
    },
    {
      "cell_type": "markdown",
      "metadata": {
        "id": "VK5LRzP_-Fkz",
        "colab_type": "text"
      },
      "source": [
        "# Train the Networks"
      ]
    },
    {
      "cell_type": "markdown",
      "metadata": {
        "id": "IpXejkbw-Fk9",
        "colab_type": "text"
      },
      "source": [
        "### Train the fusion Network"
      ]
    },
    {
      "cell_type": "code",
      "metadata": {
        "id": "_PctNNs_-i_M",
        "colab_type": "code",
        "colab": {}
      },
      "source": [
        "ptrn_face_batch_size = BATCH_SIZE\n",
        "ptrn_audio_batch_size = BATCH_SIZE\n",
        "\n",
        "def train(base_model):\n",
        "  print('training using ' + base_model.name)\n",
        "  pretrain(base_model, X_train_face_gen, X_val_face_gen, epochs, 'face')\n",
        "  print(\"face fine tuned\")\n",
        "  pretrain(base_model, X_train_audio_gen, X_val_audio_gen, epochs, 'audio')\n",
        "  print(\"audio fine tuned\")\n",
        "  train_fusion_network(base_model.name, ptrn_face_batch_size, ptrn_audio_batch_size, X_train_gen, X_val_gen, epochs)"
      ],
      "execution_count": null,
      "outputs": []
    },
    {
      "cell_type": "code",
      "metadata": {
        "id": "5Ls7aGsQMEYx",
        "colab_type": "code",
        "tags": [],
        "colab": {}
      },
      "source": [
        "# train(tf.keras.applications.Xception())"
      ],
      "execution_count": null,
      "outputs": []
    },
    {
      "cell_type": "code",
      "metadata": {
        "id": "FBtGOBl5NhKh",
        "colab_type": "code",
        "colab": {}
      },
      "source": [
        "# train(tf.keras.applications.InceptionV3())"
      ],
      "execution_count": null,
      "outputs": []
    },
    {
      "cell_type": "code",
      "metadata": {
        "id": "zpHLLEANNlM5",
        "colab_type": "code",
        "colab": {}
      },
      "source": [
        "# train(tf.keras.applications.InceptionResNetV2())"
      ],
      "execution_count": null,
      "outputs": []
    },
    {
      "cell_type": "code",
      "metadata": {
        "id": "3_gtgSC9miGH",
        "colab_type": "code",
        "colab": {}
      },
      "source": [
        "# train(tf.keras.applications.ResNet50())"
      ],
      "execution_count": null,
      "outputs": []
    },
    {
      "cell_type": "code",
      "metadata": {
        "id": "gQPIDIgca4RZ",
        "colab_type": "code",
        "colab": {}
      },
      "source": [
        ""
      ],
      "execution_count": null,
      "outputs": []
    }
  ]
}